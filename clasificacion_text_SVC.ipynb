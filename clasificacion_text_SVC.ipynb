{
 "cells": [
  {
   "cell_type": "code",
   "execution_count": 1,
   "metadata": {},
   "outputs": [],
   "source": [
    "import numpy as np\n",
    "import pandas as pd"
   ]
  },
  {
   "cell_type": "code",
   "execution_count": 2,
   "metadata": {},
   "outputs": [],
   "source": [
    "datos = pd.read_csv('peliculas.tsv',sep='\\t')"
   ]
  },
  {
   "cell_type": "code",
   "execution_count": 5,
   "metadata": {},
   "outputs": [],
   "source": [
    "datos.dropna(inplace=True)"
   ]
  },
  {
   "cell_type": "code",
   "execution_count": 6,
   "metadata": {},
   "outputs": [
    {
     "data": {
      "text/plain": [
       "etiqueta    0\n",
       "revision    0\n",
       "dtype: int64"
      ]
     },
     "execution_count": 6,
     "metadata": {},
     "output_type": "execute_result"
    }
   ],
   "source": [
    "datos.isnull().sum()"
   ]
  },
  {
   "cell_type": "code",
   "execution_count": 7,
   "metadata": {},
   "outputs": [],
   "source": [
    "blanco = []\n",
    "# revisa si hay campos con espacios en blanco, sea uno o varios\n",
    "\n",
    "for i,label,revision in datos.itertuples():\n",
    "    if revision.isspace():\n",
    "        blanco.append(i)\n",
    "    "
   ]
  },
  {
   "cell_type": "code",
   "execution_count": 10,
   "metadata": {},
   "outputs": [],
   "source": [
    "datos.drop(blanco,inplace=True)"
   ]
  },
  {
   "cell_type": "code",
   "execution_count": 18,
   "metadata": {},
   "outputs": [],
   "source": [
    "from sklearn.model_selection import train_test_split\n",
    "from sklearn.feature_extraction.text import TfidfVectorizer\n",
    "from sklearn.svm import LinearSVC\n",
    "from sklearn.pipeline import Pipeline"
   ]
  },
  {
   "cell_type": "code",
   "execution_count": 15,
   "metadata": {},
   "outputs": [],
   "source": [
    "x= datos['revision']\n",
    "y=datos['etiqueta']\n"
   ]
  },
  {
   "cell_type": "code",
   "execution_count": 16,
   "metadata": {},
   "outputs": [],
   "source": [
    "x_train,x_test,y_train,y_test = train_test_split(x,y,test_size=0.3)"
   ]
  },
  {
   "cell_type": "code",
   "execution_count": 19,
   "metadata": {},
   "outputs": [],
   "source": [
    "modelo = Pipeline([\n",
    "    ('vectorizador',TfidfVectorizer()),\n",
    "    ('clasificacion',LinearSVC())\n",
    "    ])"
   ]
  },
  {
   "cell_type": "code",
   "execution_count": 20,
   "metadata": {},
   "outputs": [
    {
     "data": {
      "text/plain": [
       "Pipeline(steps=[('vectorizador', TfidfVectorizer()),\n",
       "                ('clasificacion', LinearSVC())])"
      ]
     },
     "execution_count": 20,
     "metadata": {},
     "output_type": "execute_result"
    }
   ],
   "source": [
    "modelo.fit(x_train,y_train)"
   ]
  },
  {
   "cell_type": "code",
   "execution_count": 21,
   "metadata": {},
   "outputs": [],
   "source": [
    "predicciones = modelo.predict(x_test)"
   ]
  },
  {
   "cell_type": "code",
   "execution_count": 23,
   "metadata": {},
   "outputs": [],
   "source": [
    "from sklearn.metrics import confusion_matrix, classification_report"
   ]
  },
  {
   "cell_type": "code",
   "execution_count": 24,
   "metadata": {},
   "outputs": [
    {
     "name": "stdout",
     "output_type": "stream",
     "text": [
      "[[190  37]\n",
      " [ 28 172]]\n"
     ]
    }
   ],
   "source": [
    "print(confusion_matrix(y_test,predicciones))"
   ]
  },
  {
   "cell_type": "code",
   "execution_count": 35,
   "metadata": {},
   "outputs": [
    {
     "name": "stdout",
     "output_type": "stream",
     "text": [
      "Collecting es-core-news-lg==3.4.0\n",
      "  Downloading https://github.com/explosion/spacy-models/releases/download/es_core_news_lg-3.4.0/es_core_news_lg-3.4.0-py3-none-any.whl (568.0 MB)\n",
      "Requirement already satisfied: spacy<3.5.0,>=3.4.0 in c:\\users\\erika\\anaconda3\\lib\\site-packages (from es-core-news-lg==3.4.0) (3.4.1)\n",
      "Requirement already satisfied: requests<3.0.0,>=2.13.0 in c:\\users\\erika\\anaconda3\\lib\\site-packages (from spacy<3.5.0,>=3.4.0->es-core-news-lg==3.4.0) (2.26.0)\n",
      "Requirement already satisfied: packaging>=20.0 in c:\\users\\erika\\anaconda3\\lib\\site-packages (from spacy<3.5.0,>=3.4.0->es-core-news-lg==3.4.0) (21.0)\n",
      "Requirement already satisfied: cymem<2.1.0,>=2.0.2 in c:\\users\\erika\\anaconda3\\lib\\site-packages (from spacy<3.5.0,>=3.4.0->es-core-news-lg==3.4.0) (2.0.6)\n",
      "Requirement already satisfied: thinc<8.2.0,>=8.1.0 in c:\\users\\erika\\anaconda3\\lib\\site-packages (from spacy<3.5.0,>=3.4.0->es-core-news-lg==3.4.0) (8.1.1)\n",
      "Requirement already satisfied: preshed<3.1.0,>=3.0.2 in c:\\users\\erika\\anaconda3\\lib\\site-packages (from spacy<3.5.0,>=3.4.0->es-core-news-lg==3.4.0) (3.0.7)\n",
      "Requirement already satisfied: typer<0.5.0,>=0.3.0 in c:\\users\\erika\\anaconda3\\lib\\site-packages (from spacy<3.5.0,>=3.4.0->es-core-news-lg==3.4.0) (0.4.2)\n",
      "Requirement already satisfied: pathy>=0.3.5 in c:\\users\\erika\\anaconda3\\lib\\site-packages (from spacy<3.5.0,>=3.4.0->es-core-news-lg==3.4.0) (0.6.2)\n",
      "Requirement already satisfied: pydantic!=1.8,!=1.8.1,<1.10.0,>=1.7.4 in c:\\users\\erika\\anaconda3\\lib\\site-packages (from spacy<3.5.0,>=3.4.0->es-core-news-lg==3.4.0) (1.9.2)\n",
      "Requirement already satisfied: wasabi<1.1.0,>=0.9.1 in c:\\users\\erika\\anaconda3\\lib\\site-packages (from spacy<3.5.0,>=3.4.0->es-core-news-lg==3.4.0) (0.10.1)\n",
      "Requirement already satisfied: spacy-legacy<3.1.0,>=3.0.9 in c:\\users\\erika\\anaconda3\\lib\\site-packages (from spacy<3.5.0,>=3.4.0->es-core-news-lg==3.4.0) (3.0.10)\n",
      "Requirement already satisfied: srsly<3.0.0,>=2.4.3 in c:\\users\\erika\\anaconda3\\lib\\site-packages (from spacy<3.5.0,>=3.4.0->es-core-news-lg==3.4.0) (2.4.4)\n",
      "Requirement already satisfied: jinja2 in c:\\users\\erika\\anaconda3\\lib\\site-packages (from spacy<3.5.0,>=3.4.0->es-core-news-lg==3.4.0) (2.11.3)\n",
      "Requirement already satisfied: murmurhash<1.1.0,>=0.28.0 in c:\\users\\erika\\anaconda3\\lib\\site-packages (from spacy<3.5.0,>=3.4.0->es-core-news-lg==3.4.0) (1.0.8)\n",
      "Requirement already satisfied: numpy>=1.15.0 in c:\\users\\erika\\anaconda3\\lib\\site-packages (from spacy<3.5.0,>=3.4.0->es-core-news-lg==3.4.0) (1.22.2)\n",
      "Requirement already satisfied: tqdm<5.0.0,>=4.38.0 in c:\\users\\erika\\anaconda3\\lib\\site-packages (from spacy<3.5.0,>=3.4.0->es-core-news-lg==3.4.0) (4.62.3)\n",
      "Requirement already satisfied: langcodes<4.0.0,>=3.2.0 in c:\\users\\erika\\anaconda3\\lib\\site-packages (from spacy<3.5.0,>=3.4.0->es-core-news-lg==3.4.0) (3.3.0)\n",
      "Requirement already satisfied: catalogue<2.1.0,>=2.0.6 in c:\\users\\erika\\anaconda3\\lib\\site-packages (from spacy<3.5.0,>=3.4.0->es-core-news-lg==3.4.0) (2.0.8)\n",
      "Requirement already satisfied: setuptools in c:\\users\\erika\\anaconda3\\lib\\site-packages (from spacy<3.5.0,>=3.4.0->es-core-news-lg==3.4.0) (58.0.4)\n",
      "Requirement already satisfied: spacy-loggers<2.0.0,>=1.0.0 in c:\\users\\erika\\anaconda3\\lib\\site-packages (from spacy<3.5.0,>=3.4.0->es-core-news-lg==3.4.0) (1.0.3)\n",
      "Requirement already satisfied: pyparsing>=2.0.2 in c:\\users\\erika\\anaconda3\\lib\\site-packages (from packaging>=20.0->spacy<3.5.0,>=3.4.0->es-core-news-lg==3.4.0) (3.0.4)\n",
      "Requirement already satisfied: smart-open<6.0.0,>=5.2.1 in c:\\users\\erika\\anaconda3\\lib\\site-packages (from pathy>=0.3.5->spacy<3.5.0,>=3.4.0->es-core-news-lg==3.4.0) (5.2.1)\n",
      "Requirement already satisfied: typing-extensions>=3.7.4.3 in c:\\users\\erika\\anaconda3\\lib\\site-packages (from pydantic!=1.8,!=1.8.1,<1.10.0,>=1.7.4->spacy<3.5.0,>=3.4.0->es-core-news-lg==3.4.0) (3.10.0.2)\n",
      "Requirement already satisfied: urllib3<1.27,>=1.21.1 in c:\\users\\erika\\anaconda3\\lib\\site-packages (from requests<3.0.0,>=2.13.0->spacy<3.5.0,>=3.4.0->es-core-news-lg==3.4.0) (1.26.7)\n",
      "Requirement already satisfied: idna<4,>=2.5 in c:\\users\\erika\\anaconda3\\lib\\site-packages (from requests<3.0.0,>=2.13.0->spacy<3.5.0,>=3.4.0->es-core-news-lg==3.4.0) (3.2)\n",
      "Requirement already satisfied: charset-normalizer~=2.0.0 in c:\\users\\erika\\anaconda3\\lib\\site-packages (from requests<3.0.0,>=2.13.0->spacy<3.5.0,>=3.4.0->es-core-news-lg==3.4.0) (2.0.4)\n",
      "Requirement already satisfied: certifi>=2017.4.17 in c:\\users\\erika\\anaconda3\\lib\\site-packages (from requests<3.0.0,>=2.13.0->spacy<3.5.0,>=3.4.0->es-core-news-lg==3.4.0) (2021.10.8)\n",
      "Requirement already satisfied: confection<1.0.0,>=0.0.1 in c:\\users\\erika\\anaconda3\\lib\\site-packages (from thinc<8.2.0,>=8.1.0->spacy<3.5.0,>=3.4.0->es-core-news-lg==3.4.0) (0.0.1)\n",
      "Requirement already satisfied: blis<0.10.0,>=0.7.8 in c:\\users\\erika\\anaconda3\\lib\\site-packages (from thinc<8.2.0,>=8.1.0->spacy<3.5.0,>=3.4.0->es-core-news-lg==3.4.0) (0.9.1)\n",
      "Requirement already satisfied: colorama in c:\\users\\erika\\anaconda3\\lib\\site-packages (from tqdm<5.0.0,>=4.38.0->spacy<3.5.0,>=3.4.0->es-core-news-lg==3.4.0) (0.4.4)\n",
      "Requirement already satisfied: click<9.0.0,>=7.1.1 in c:\\users\\erika\\anaconda3\\lib\\site-packages (from typer<0.5.0,>=0.3.0->spacy<3.5.0,>=3.4.0->es-core-news-lg==3.4.0) (8.0.3)\n",
      "Requirement already satisfied: MarkupSafe>=0.23 in c:\\users\\erika\\anaconda3\\lib\\site-packages (from jinja2->spacy<3.5.0,>=3.4.0->es-core-news-lg==3.4.0) (1.1.1)\n",
      "Installing collected packages: es-core-news-lg\n",
      "Successfully installed es-core-news-lg-3.4.0\n",
      "✔ Download and installation successful\n",
      "You can now load the package via spacy.load('es_core_news_lg')\n"
     ]
    }
   ],
   "source": [
    "!python -m spacy download es_core_news_lg"
   ]
  },
  {
   "cell_type": "code",
   "execution_count": 36,
   "metadata": {},
   "outputs": [],
   "source": [
    "import spacy"
   ]
  },
  {
   "cell_type": "code",
   "execution_count": 38,
   "metadata": {},
   "outputs": [],
   "source": [
    "nlp = spacy.load('es_core_news_lg')"
   ]
  },
  {
   "cell_type": "code",
   "execution_count": 39,
   "metadata": {},
   "outputs": [
    {
     "data": {
      "text/plain": [
       "(300,)"
      ]
     },
     "execution_count": 39,
     "metadata": {},
     "output_type": "execute_result"
    }
   ],
   "source": [
    "nlp(u'tigre').vector.shape"
   ]
  },
  {
   "cell_type": "code",
   "execution_count": 40,
   "metadata": {},
   "outputs": [
    {
     "name": "stdout",
     "output_type": "stream",
     "text": [
      "tigre tigre 1.0\n",
      "tigre leopardo 0.678449809551239\n",
      "tigre coche 0.18322646617889404\n",
      "leopardo tigre 0.678449809551239\n",
      "leopardo leopardo 1.0\n",
      "leopardo coche 0.13257257640361786\n",
      "coche tigre 0.18322646617889404\n",
      "coche leopardo 0.13257257640361786\n",
      "coche coche 1.0\n"
     ]
    }
   ],
   "source": [
    "palabras=nlp(u'tigre leopardo coche')\n",
    "for palabra1 in palabras:\n",
    "    for palabra2 in palabras:\n",
    "        print(palabra1.text,palabra2.text,palabra1.similarity(palabra2))"
   ]
  },
  {
   "cell_type": "code",
   "execution_count": 42,
   "metadata": {},
   "outputs": [
    {
     "name": "stdout",
     "output_type": "stream",
     "text": [
      "botella botella 1.0\n",
      "botella Antonio -0.08982047438621521\n",
      "botella coche 0.32401043176651\n",
      "Antonio botella -0.08982047438621521\n",
      "Antonio Antonio 1.0\n",
      "Antonio coche -0.11542845517396927\n",
      "coche botella 0.32401043176651\n",
      "coche Antonio -0.11542845517396927\n",
      "coche coche 1.0\n"
     ]
    }
   ],
   "source": [
    "palabras=nlp(u'botella Antonio coche')\n",
    "for palabra1 in palabras:\n",
    "    for palabra2 in palabras:\n",
    "        print(palabra1.text,palabra2.text,palabra1.similarity(palabra2))"
   ]
  },
  {
   "cell_type": "code",
   "execution_count": 46,
   "metadata": {},
   "outputs": [
    {
     "name": "stdout",
     "output_type": "stream",
     "text": [
      "tigre True 23.964334 False\n",
      "cortina True 22.453972 False\n",
      "coche True 33.33818 False\n"
     ]
    }
   ],
   "source": [
    "palabras=nlp(u'tigre cortina coche')\n",
    "for palabra1 in palabras:\n",
    "    print(palabra1.text,palabra1.has_vector,palabra1.vector_norm,palabra1.is_oov)"
   ]
  },
  {
   "cell_type": "code",
   "execution_count": null,
   "metadata": {},
   "outputs": [],
   "source": []
  }
 ],
 "metadata": {
  "kernelspec": {
   "display_name": "Python 3.9.7 ('base')",
   "language": "python",
   "name": "python3"
  },
  "language_info": {
   "codemirror_mode": {
    "name": "ipython",
    "version": 3
   },
   "file_extension": ".py",
   "mimetype": "text/x-python",
   "name": "python",
   "nbconvert_exporter": "python",
   "pygments_lexer": "ipython3",
   "version": "3.9.7"
  },
  "orig_nbformat": 4,
  "vscode": {
   "interpreter": {
    "hash": "450bb25e2b307401eecb31d4e9713c784ba8770fcb1ae02bf37b1444fc17ad35"
   }
  }
 },
 "nbformat": 4,
 "nbformat_minor": 2
}
