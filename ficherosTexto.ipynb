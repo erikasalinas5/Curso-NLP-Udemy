{
 "cells": [
  {
   "cell_type": "markdown",
   "metadata": {},
   "source": [
    "Se pueden crear archivos desde el cuaderno de jupyter"
   ]
  },
  {
   "cell_type": "code",
   "execution_count": 1,
   "metadata": {},
   "outputs": [
    {
     "name": "stdout",
     "output_type": "stream",
     "text": [
      "Writing pruebas.txt\n"
     ]
    }
   ],
   "source": [
    "%%writefile pruebas.txt\n",
    "Este será mi primer fichero de prueba\n",
    "Esta será la segunda linea del fichero\n",
    "Aqui se acaba el fichero"
   ]
  },
  {
   "cell_type": "code",
   "execution_count": 2,
   "metadata": {},
   "outputs": [
    {
     "data": {
      "text/plain": [
       "'Este será mi primer fichero de prueba\\nEsta será la segunda linea del fichero\\nAqui se acaba el fichero\\n'"
      ]
     },
     "execution_count": 2,
     "metadata": {},
     "output_type": "execute_result"
    }
   ],
   "source": [
    "fichero = open('pruebas.txt')\n",
    "datos = fichero.read()\n",
    "datos\n",
    "fichero.close()"
   ]
  },
  {
   "cell_type": "code",
   "execution_count": 4,
   "metadata": {},
   "outputs": [
    {
     "name": "stdout",
     "output_type": "stream",
     "text": [
      "Este serÃ¡ mi primer fichero de prueba\n",
      "\n",
      "Esta serÃ¡ la segunda linea del fichero\n",
      "\n",
      "Aqui se acaba el fichero\n",
      "\n",
      "\n",
      "\n",
      "Esta es la linea que hemos añadido ahora\n"
     ]
    }
   ],
   "source": [
    "fichero = open('pruebas.txt')\n",
    "lineas = fichero.readlines()\n",
    "for linea in lineas:\n",
    "    print(linea)"
   ]
  },
  {
   "cell_type": "code",
   "execution_count": 3,
   "metadata": {},
   "outputs": [
    {
     "data": {
      "text/plain": [
       "41"
      ]
     },
     "execution_count": 3,
     "metadata": {},
     "output_type": "execute_result"
    }
   ],
   "source": [
    "fichero.close()\n",
    "fichero = open('pruebas.txt',mode='a+')\n",
    "fichero.write('\\nEsta es la linea que hemos añadido ahora')\n"
   ]
  }
 ],
 "metadata": {
  "kernelspec": {
   "display_name": "Python 3.9.7 ('base')",
   "language": "python",
   "name": "python3"
  },
  "language_info": {
   "codemirror_mode": {
    "name": "ipython",
    "version": 3
   },
   "file_extension": ".py",
   "mimetype": "text/x-python",
   "name": "python",
   "nbconvert_exporter": "python",
   "pygments_lexer": "ipython3",
   "version": "3.9.7"
  },
  "orig_nbformat": 4,
  "vscode": {
   "interpreter": {
    "hash": "450bb25e2b307401eecb31d4e9713c784ba8770fcb1ae02bf37b1444fc17ad35"
   }
  }
 },
 "nbformat": 4,
 "nbformat_minor": 2
}
