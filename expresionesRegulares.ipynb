{
 "cells": [
  {
   "cell_type": "code",
   "execution_count": 1,
   "metadata": {},
   "outputs": [],
   "source": [
    "texto = 'El numero de telefono es 312-435-3370'\n",
    "patron = '312'\n"
   ]
  },
  {
   "cell_type": "code",
   "execution_count": 2,
   "metadata": {},
   "outputs": [
    {
     "data": {
      "text/plain": [
       "True"
      ]
     },
     "execution_count": 2,
     "metadata": {},
     "output_type": "execute_result"
    }
   ],
   "source": [
    "patron in texto"
   ]
  },
  {
   "cell_type": "code",
   "execution_count": 3,
   "metadata": {},
   "outputs": [
    {
     "data": {
      "text/plain": [
       "<regex.Match object; span=(25, 28), match='312'>"
      ]
     },
     "execution_count": 3,
     "metadata": {},
     "output_type": "execute_result"
    }
   ],
   "source": [
    "import regex as re\n",
    "re.search(patron,texto)"
   ]
  },
  {
   "cell_type": "code",
   "execution_count": 5,
   "metadata": {},
   "outputs": [
    {
     "data": {
      "text/plain": [
       "['312']"
      ]
     },
     "execution_count": 5,
     "metadata": {},
     "output_type": "execute_result"
    }
   ],
   "source": [
    "coincidencias = re.findall(patron,texto)\n",
    "coincidencias"
   ]
  },
  {
   "cell_type": "code",
   "execution_count": 11,
   "metadata": {},
   "outputs": [
    {
     "data": {
      "text/plain": [
       "['312', '312']"
      ]
     },
     "execution_count": 11,
     "metadata": {},
     "output_type": "execute_result"
    }
   ],
   "source": [
    "texto = \"Tengo 2 numero de telefono y son 312-4253370 y 312-2296128\"\n",
    "patron = '312'\n",
    "coincidencias = re.findall(patron,texto)\n",
    "coincidencias"
   ]
  },
  {
   "cell_type": "code",
   "execution_count": 7,
   "metadata": {},
   "outputs": [
    {
     "name": "stdout",
     "output_type": "stream",
     "text": [
      "(33, 36)\n",
      "(46, 49)\n"
     ]
    }
   ],
   "source": [
    "coincidencias = re.finditer(patron,texto)\n",
    "for coincidencia in coincidencias:\n",
    "    print(coincidencia.span())"
   ]
  },
  {
   "cell_type": "code",
   "execution_count": 13,
   "metadata": {},
   "outputs": [
    {
     "name": "stdout",
     "output_type": "stream",
     "text": [
      "<_regex.Scanner object at 0x000001E0B02AEEE0>\n",
      "(33, 44)\n",
      "(47, 58)\n"
     ]
    }
   ],
   "source": [
    "patron2 = r'\\d{3}-\\d{7}'\n",
    "coincidencias = re.finditer(patron2,texto)\n",
    "print(coincidencias)\n",
    "for coincidencia in coincidencias:\n",
    "    print(coincidencia.span())"
   ]
  }
 ],
 "metadata": {
  "kernelspec": {
   "display_name": "Python 3.9.7 ('base')",
   "language": "python",
   "name": "python3"
  },
  "language_info": {
   "codemirror_mode": {
    "name": "ipython",
    "version": 3
   },
   "file_extension": ".py",
   "mimetype": "text/x-python",
   "name": "python",
   "nbconvert_exporter": "python",
   "pygments_lexer": "ipython3",
   "version": "3.9.7"
  },
  "orig_nbformat": 4,
  "vscode": {
   "interpreter": {
    "hash": "450bb25e2b307401eecb31d4e9713c784ba8770fcb1ae02bf37b1444fc17ad35"
   }
  }
 },
 "nbformat": 4,
 "nbformat_minor": 2
}
